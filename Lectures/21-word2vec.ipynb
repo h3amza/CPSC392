{
 "cells": [
  {
   "cell_type": "markdown",
   "metadata": {},
   "source": [
    "## word2vec"
   ]
  },
  {
   "cell_type": "markdown",
   "metadata": {},
   "source": [
    "##### Introduced in 2013, word2vec is an unsupervised neural network approach to representing words in a document. Given a text corpus, this algorithm can output a vector representation of each word.\n",
    "\n",
    "##### It uses the context (surrounding words) of a word to generate its representation.\n",
    "\n",
    "\n",
    "##### We start by loading the gensim library, which is a famous library for topic modelling and NLP applications in Python. I have already downloaded the Gutenberg data, which includes a small selection of texts from the Project Gutenberg electronic text archive, which contains some 25,000 free electronic books"
   ]
  },
  {
   "cell_type": "code",
   "execution_count": null,
   "metadata": {},
   "outputs": [],
   "source": [
    "import gensim\n",
    "# import nltk; nltk.download(\"gutenberg\")\n",
    "from nltk.corpus import gutenberg"
   ]
  },
  {
   "cell_type": "markdown",
   "metadata": {},
   "source": [
    "##### Extracting sentences from the data and running the word2vec model on it. It takes a long time so I have saved the model and will load it for future use. Notice how easy it is to run this model!"
   ]
  },
  {
   "cell_type": "code",
   "execution_count": null,
   "metadata": {},
   "outputs": [],
   "source": [
    "sentences = gutenberg.sents()\n",
    "model = gensim.models.Word2Vec(sentences, min_count=1)\n",
    "model.save('gutenberg_model')"
   ]
  },
  {
   "cell_type": "markdown",
   "metadata": {},
   "source": [
    "##### I have saved the model as gutenberg_model, now we can load it and look at vector representation of different words"
   ]
  },
  {
   "cell_type": "code",
   "execution_count": null,
   "metadata": {},
   "outputs": [],
   "source": [
    "model = gensim.models.Word2Vec.load('gutenberg_model')"
   ]
  },
  {
   "cell_type": "markdown",
   "metadata": {},
   "source": [
    "##### By default, the model is made to generate a 100 value long vector for each word. This is the output of the neural network for each word. The vector representation focuses on the context of the word across all documents, so we can even find what words it is similar to."
   ]
  },
  {
   "cell_type": "code",
   "execution_count": null,
   "metadata": {},
   "outputs": [],
   "source": [
    "print(model.wv['fruit'])"
   ]
  },
  {
   "cell_type": "code",
   "execution_count": null,
   "metadata": {},
   "outputs": [],
   "source": [
    "model.wv.most_similar(\"fruit\")"
   ]
  },
  {
   "cell_type": "markdown",
   "metadata": {},
   "source": [
    "##### Notice how fruit is similar to vine, corn, bread etc.. given the context of several books in the Gutenberg Project. We can additionally add or subtract the weights of words to see more words come up. In the following example, we want to find words similar to fruit without the context of flesh, meat etc."
   ]
  },
  {
   "cell_type": "code",
   "execution_count": null,
   "metadata": {},
   "outputs": [],
   "source": [
    "model.wv.most_similar(positive=['fruit',\"corn\"],negative=[\"blood\"])"
   ]
  },
  {
   "cell_type": "markdown",
   "metadata": {},
   "source": [
    "##### Here's a model running for a very small data set, 2 sentences with 3 words each. Notice how I can change the size of the output vector using size, and how many words to check in the context, using window. The model isn't good, but that just tells you that text analysis needs lots of data to work."
   ]
  },
  {
   "cell_type": "code",
   "execution_count": null,
   "metadata": {},
   "outputs": [],
   "source": [
    "from gensim.models import Word2Vec\n",
    "sentences = [[\"cat\", \"say\", \"meow\"], [\"dog\", \"say\", \"woof\"]]\n",
    "model2 = Word2Vec(sentences, min_count=1,size=3,window=3)"
   ]
  },
  {
   "cell_type": "code",
   "execution_count": null,
   "metadata": {},
   "outputs": [],
   "source": [
    "model2.wv['meow']"
   ]
  },
  {
   "cell_type": "code",
   "execution_count": null,
   "metadata": {},
   "outputs": [],
   "source": [
    "model2.wv.most_similar(\"meow\")"
   ]
  },
  {
   "cell_type": "code",
   "execution_count": null,
   "metadata": {},
   "outputs": [],
   "source": []
  }
 ],
 "metadata": {
  "kernelspec": {
   "display_name": "Python 3",
   "language": "python",
   "name": "python3"
  },
  "language_info": {
   "codemirror_mode": {
    "name": "ipython",
    "version": 3
   },
   "file_extension": ".py",
   "mimetype": "text/x-python",
   "name": "python",
   "nbconvert_exporter": "python",
   "pygments_lexer": "ipython3",
   "version": "3.6.8"
  }
 },
 "nbformat": 4,
 "nbformat_minor": 2
}
